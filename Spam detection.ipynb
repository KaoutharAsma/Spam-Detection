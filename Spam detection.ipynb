{
 "cells": [
  {
   "cell_type": "code",
   "execution_count": 1,
   "id": "steady-formula",
   "metadata": {},
   "outputs": [],
   "source": [
    "import pandas as pd\n",
    "import numpy as np\n",
    "import matplotlib.pyplot as plt"
   ]
  },
  {
   "cell_type": "code",
   "execution_count": 2,
   "id": "agreed-underground",
   "metadata": {},
   "outputs": [],
   "source": [
    "from stop_words import get_stop_words"
   ]
  },
  {
   "cell_type": "code",
   "execution_count": 3,
   "id": "egyptian-origin",
   "metadata": {},
   "outputs": [],
   "source": [
    "stop_words = get_stop_words(language='en') # import stop words"
   ]
  },
  {
   "cell_type": "code",
   "execution_count": 121,
   "id": "wrapped-burns",
   "metadata": {},
   "outputs": [],
   "source": [
    "data_1 = pd.read_csv('dataset/spam.csv') # kaggle dataset"
   ]
  },
  {
   "cell_type": "code",
   "execution_count": 122,
   "id": "minus-coalition",
   "metadata": {},
   "outputs": [
    {
     "data": {
      "text/html": [
       "<div>\n",
       "<style scoped>\n",
       "    .dataframe tbody tr th:only-of-type {\n",
       "        vertical-align: middle;\n",
       "    }\n",
       "\n",
       "    .dataframe tbody tr th {\n",
       "        vertical-align: top;\n",
       "    }\n",
       "\n",
       "    .dataframe thead th {\n",
       "        text-align: right;\n",
       "    }\n",
       "</style>\n",
       "<table border=\"1\" class=\"dataframe\">\n",
       "  <thead>\n",
       "    <tr style=\"text-align: right;\">\n",
       "      <th></th>\n",
       "      <th>v1</th>\n",
       "      <th>v2</th>\n",
       "      <th>Unnamed: 2</th>\n",
       "      <th>Unnamed: 3</th>\n",
       "      <th>Unnamed: 4</th>\n",
       "    </tr>\n",
       "  </thead>\n",
       "  <tbody>\n",
       "    <tr>\n",
       "      <th>0</th>\n",
       "      <td>ham</td>\n",
       "      <td>Go until jurong point, crazy.. Available only ...</td>\n",
       "      <td>NaN</td>\n",
       "      <td>NaN</td>\n",
       "      <td>NaN</td>\n",
       "    </tr>\n",
       "    <tr>\n",
       "      <th>1</th>\n",
       "      <td>ham</td>\n",
       "      <td>Ok lar... Joking wif u oni...</td>\n",
       "      <td>NaN</td>\n",
       "      <td>NaN</td>\n",
       "      <td>NaN</td>\n",
       "    </tr>\n",
       "    <tr>\n",
       "      <th>2</th>\n",
       "      <td>spam</td>\n",
       "      <td>Free entry in 2 a wkly comp to win FA Cup fina...</td>\n",
       "      <td>NaN</td>\n",
       "      <td>NaN</td>\n",
       "      <td>NaN</td>\n",
       "    </tr>\n",
       "    <tr>\n",
       "      <th>3</th>\n",
       "      <td>ham</td>\n",
       "      <td>U dun say so early hor... U c already then say...</td>\n",
       "      <td>NaN</td>\n",
       "      <td>NaN</td>\n",
       "      <td>NaN</td>\n",
       "    </tr>\n",
       "    <tr>\n",
       "      <th>4</th>\n",
       "      <td>ham</td>\n",
       "      <td>Nah I don't think he goes to usf, he lives aro...</td>\n",
       "      <td>NaN</td>\n",
       "      <td>NaN</td>\n",
       "      <td>NaN</td>\n",
       "    </tr>\n",
       "  </tbody>\n",
       "</table>\n",
       "</div>"
      ],
      "text/plain": [
       "     v1                                                 v2 Unnamed: 2  \\\n",
       "0   ham  Go until jurong point, crazy.. Available only ...        NaN   \n",
       "1   ham                      Ok lar... Joking wif u oni...        NaN   \n",
       "2  spam  Free entry in 2 a wkly comp to win FA Cup fina...        NaN   \n",
       "3   ham  U dun say so early hor... U c already then say...        NaN   \n",
       "4   ham  Nah I don't think he goes to usf, he lives aro...        NaN   \n",
       "\n",
       "  Unnamed: 3 Unnamed: 4  \n",
       "0        NaN        NaN  \n",
       "1        NaN        NaN  \n",
       "2        NaN        NaN  \n",
       "3        NaN        NaN  \n",
       "4        NaN        NaN  "
      ]
     },
     "execution_count": 122,
     "metadata": {},
     "output_type": "execute_result"
    }
   ],
   "source": [
    "data_1.head()"
   ]
  },
  {
   "cell_type": "code",
   "execution_count": 123,
   "id": "novel-mandate",
   "metadata": {},
   "outputs": [],
   "source": [
    "data_1.drop(['Unnamed: 2','Unnamed: 3','Unnamed: 4'],axis=1,inplace=True)"
   ]
  },
  {
   "cell_type": "code",
   "execution_count": 124,
   "id": "elect-society",
   "metadata": {},
   "outputs": [],
   "source": [
    "data_1.columns = [\"spam\",\"text\"]"
   ]
  },
  {
   "cell_type": "code",
   "execution_count": 125,
   "id": "bronze-force",
   "metadata": {},
   "outputs": [],
   "source": [
    "data_1.spam = data_1.spam.apply(lambda x:0 if x=='ham' else 1)"
   ]
  },
  {
   "cell_type": "code",
   "execution_count": 126,
   "id": "accessory-absorption",
   "metadata": {},
   "outputs": [],
   "source": [
    "data = data_1.copy()"
   ]
  },
  {
   "cell_type": "code",
   "execution_count": 127,
   "id": "gothic-gross",
   "metadata": {},
   "outputs": [
    {
     "data": {
      "text/html": [
       "<div>\n",
       "<style scoped>\n",
       "    .dataframe tbody tr th:only-of-type {\n",
       "        vertical-align: middle;\n",
       "    }\n",
       "\n",
       "    .dataframe tbody tr th {\n",
       "        vertical-align: top;\n",
       "    }\n",
       "\n",
       "    .dataframe thead th {\n",
       "        text-align: right;\n",
       "    }\n",
       "</style>\n",
       "<table border=\"1\" class=\"dataframe\">\n",
       "  <thead>\n",
       "    <tr style=\"text-align: right;\">\n",
       "      <th></th>\n",
       "      <th>spam</th>\n",
       "      <th>text</th>\n",
       "    </tr>\n",
       "  </thead>\n",
       "  <tbody>\n",
       "    <tr>\n",
       "      <th>0</th>\n",
       "      <td>0</td>\n",
       "      <td>Go until jurong point, crazy.. Available only ...</td>\n",
       "    </tr>\n",
       "    <tr>\n",
       "      <th>1</th>\n",
       "      <td>0</td>\n",
       "      <td>Ok lar... Joking wif u oni...</td>\n",
       "    </tr>\n",
       "    <tr>\n",
       "      <th>2</th>\n",
       "      <td>1</td>\n",
       "      <td>Free entry in 2 a wkly comp to win FA Cup fina...</td>\n",
       "    </tr>\n",
       "    <tr>\n",
       "      <th>3</th>\n",
       "      <td>0</td>\n",
       "      <td>U dun say so early hor... U c already then say...</td>\n",
       "    </tr>\n",
       "    <tr>\n",
       "      <th>4</th>\n",
       "      <td>0</td>\n",
       "      <td>Nah I don't think he goes to usf, he lives aro...</td>\n",
       "    </tr>\n",
       "    <tr>\n",
       "      <th>...</th>\n",
       "      <td>...</td>\n",
       "      <td>...</td>\n",
       "    </tr>\n",
       "    <tr>\n",
       "      <th>5567</th>\n",
       "      <td>1</td>\n",
       "      <td>This is the 2nd time we have tried 2 contact u...</td>\n",
       "    </tr>\n",
       "    <tr>\n",
       "      <th>5568</th>\n",
       "      <td>0</td>\n",
       "      <td>Will �_ b going to esplanade fr home?</td>\n",
       "    </tr>\n",
       "    <tr>\n",
       "      <th>5569</th>\n",
       "      <td>0</td>\n",
       "      <td>Pity, * was in mood for that. So...any other s...</td>\n",
       "    </tr>\n",
       "    <tr>\n",
       "      <th>5570</th>\n",
       "      <td>0</td>\n",
       "      <td>The guy did some bitching but I acted like i'd...</td>\n",
       "    </tr>\n",
       "    <tr>\n",
       "      <th>5571</th>\n",
       "      <td>0</td>\n",
       "      <td>Rofl. Its true to its name</td>\n",
       "    </tr>\n",
       "  </tbody>\n",
       "</table>\n",
       "<p>5572 rows × 2 columns</p>\n",
       "</div>"
      ],
      "text/plain": [
       "      spam                                               text\n",
       "0        0  Go until jurong point, crazy.. Available only ...\n",
       "1        0                      Ok lar... Joking wif u oni...\n",
       "2        1  Free entry in 2 a wkly comp to win FA Cup fina...\n",
       "3        0  U dun say so early hor... U c already then say...\n",
       "4        0  Nah I don't think he goes to usf, he lives aro...\n",
       "...    ...                                                ...\n",
       "5567     1  This is the 2nd time we have tried 2 contact u...\n",
       "5568     0              Will �_ b going to esplanade fr home?\n",
       "5569     0  Pity, * was in mood for that. So...any other s...\n",
       "5570     0  The guy did some bitching but I acted like i'd...\n",
       "5571     0                         Rofl. Its true to its name\n",
       "\n",
       "[5572 rows x 2 columns]"
      ]
     },
     "execution_count": 127,
     "metadata": {},
     "output_type": "execute_result"
    }
   ],
   "source": [
    "data"
   ]
  },
  {
   "cell_type": "code",
   "execution_count": 128,
   "id": "relative-garden",
   "metadata": {},
   "outputs": [],
   "source": [
    "data.drop_duplicates(inplace=True) # drop duplicated elements\n",
    "data.dropna(inplace=True) # delete null elements"
   ]
  },
  {
   "cell_type": "code",
   "execution_count": 129,
   "id": "interracial-boxing",
   "metadata": {},
   "outputs": [
    {
     "data": {
      "text/plain": [
       "<BarContainer object of 2 artists>"
      ]
     },
     "execution_count": 129,
     "metadata": {},
     "output_type": "execute_result"
    },
    {
     "data": {
      "image/png": "[encoded data removed]",
      "text/plain": [
       "<Figure size 432x288 with 1 Axes>"
      ]
     },
     "metadata": {
      "needs_background": "light"
     },
     "output_type": "display_data"
    }
   ],
   "source": [
    "plt.bar(['spam','ham'],[len(data[data.spam == 1]),len(data[data.spam == 0])]) # show the propotion of each class"
   ]
  },
  {
   "cell_type": "markdown",
   "id": "acquired-utilization",
   "metadata": {},
   "source": [
    "## Preprocess data"
   ]
  },
  {
   "cell_type": "code",
   "execution_count": 131,
   "id": "configured-crystal",
   "metadata": {},
   "outputs": [],
   "source": [
    "from string import punctuation\n",
    "import re\n",
    "def preprocess(text):\n",
    "    text = re.sub(r'[^\\w\\s]','',text) # keep only words and space ( remove punctuation + remove weried characters)\n",
    "    text = text.strip() # remove starting spaces and ending spaces\n",
    "    tokens = text.split(' ') # tokenize\n",
    "    return [w.lower() for w in tokens if w not in stop_words and w!=''] # remove stop words and spaces"
   ]
  },
  {
   "cell_type": "markdown",
   "id": "wrapped-immigration",
   "metadata": {},
   "source": [
    "# Text to matrix of tokens counts"
   ]
  },
  {
   "cell_type": "code",
   "execution_count": 132,
   "id": "burning-cardiff",
   "metadata": {},
   "outputs": [],
   "source": [
    "from sklearn.feature_extraction.text import CountVectorizer"
   ]
  },
  {
   "cell_type": "code",
   "execution_count": 133,
   "id": "acoustic-strain",
   "metadata": {},
   "outputs": [],
   "source": [
    "# make a matrix of tokens counts based on the dataset\n",
    "countVectorizer = CountVectorizer(analyzer=preprocess)\n",
    "messages = countVectorizer.fit_transform(data.text)"
   ]
  },
  {
   "cell_type": "markdown",
   "id": "second-verification",
   "metadata": {},
   "source": [
    "## split data into train , test and validation"
   ]
  },
  {
   "cell_type": "code",
   "execution_count": 134,
   "id": "bibliographic-hebrew",
   "metadata": {},
   "outputs": [
    {
     "data": {
      "text/plain": [
       "6.915773353751915"
      ]
     },
     "execution_count": 134,
     "metadata": {},
     "output_type": "execute_result"
    }
   ],
   "source": [
    "len(data[data.spam==0])/len(data[data.spam==1]) # check propotion of class Vs 0 comparing to class 1"
   ]
  },
  {
   "cell_type": "code",
   "execution_count": 212,
   "id": "complete-incident",
   "metadata": {},
   "outputs": [],
   "source": [
    "from sklearn.model_selection import train_test_split\n",
    "X = messages\n",
    "y = data.spam\n",
    "X_train, X_test, y_train, y_test = train_test_split(X, y, test_size=0.2, stratify=y) # split the data into train and test"
   ]
  },
  {
   "cell_type": "code",
   "execution_count": 213,
   "id": "surgical-viewer",
   "metadata": {},
   "outputs": [
    {
     "data": {
      "text/plain": [
       "(4135, 1034)"
      ]
     },
     "execution_count": 213,
     "metadata": {},
     "output_type": "execute_result"
    }
   ],
   "source": [
    "X_train.shape[0] , X_test.shape[0]"
   ]
  },
  {
   "cell_type": "markdown",
   "id": "pleasant-palace",
   "metadata": {},
   "source": [
    "The propotion of class 0 comparing to class 1 is reserved because we used stratified sampling to split our dataset"
   ]
  },
  {
   "cell_type": "code",
   "execution_count": 214,
   "id": "solved-ottawa",
   "metadata": {},
   "outputs": [
    {
     "data": {
      "text/plain": [
       "6.915773353751915"
      ]
     },
     "execution_count": 214,
     "metadata": {},
     "output_type": "execute_result"
    }
   ],
   "source": [
    "len(y[y==0])/len(y[y==1]) "
   ]
  },
  {
   "cell_type": "code",
   "execution_count": 215,
   "id": "indirect-corps",
   "metadata": {},
   "outputs": [
    {
     "data": {
      "text/plain": [
       "6.921455938697318"
      ]
     },
     "execution_count": 215,
     "metadata": {},
     "output_type": "execute_result"
    }
   ],
   "source": [
    "len(y_train[y_train==0])/len(y_train[y_train==1]) "
   ]
  },
  {
   "cell_type": "code",
   "execution_count": 216,
   "id": "destroyed-willow",
   "metadata": {},
   "outputs": [
    {
     "data": {
      "text/plain": [
       "6.893129770992366"
      ]
     },
     "execution_count": 216,
     "metadata": {},
     "output_type": "execute_result"
    }
   ],
   "source": [
    "len(y_val[y_val==0])/len(y_val[y_val==1]) "
   ]
  },
  {
   "cell_type": "markdown",
   "id": "mediterranean-things",
   "metadata": {},
   "source": [
    "# model training"
   ]
  },
  {
   "cell_type": "markdown",
   "id": "beautiful-field",
   "metadata": {},
   "source": [
    "## Naive Bayes"
   ]
  },
  {
   "cell_type": "code",
   "execution_count": 217,
   "id": "clear-feedback",
   "metadata": {},
   "outputs": [],
   "source": [
    "from sklearn.naive_bayes import MultinomialNB"
   ]
  },
  {
   "cell_type": "code",
   "execution_count": 218,
   "id": "environmental-prescription",
   "metadata": {},
   "outputs": [],
   "source": [
    "NB = MultinomialNB()"
   ]
  },
  {
   "cell_type": "code",
   "execution_count": 219,
   "id": "tight-taste",
   "metadata": {},
   "outputs": [],
   "source": [
    "model = NB.fit(X_train,y_train)"
   ]
  },
  {
   "cell_type": "code",
   "execution_count": 220,
   "id": "dependent-heavy",
   "metadata": {},
   "outputs": [],
   "source": [
    "from sklearn.metrics import classification_report, confusion_matrix, accuracy_score"
   ]
  },
  {
   "cell_type": "code",
   "execution_count": 221,
   "id": "academic-heath",
   "metadata": {},
   "outputs": [],
   "source": [
    "pred = model.predict(X_train)"
   ]
  },
  {
   "cell_type": "code",
   "execution_count": 222,
   "id": "graphic-thong",
   "metadata": {},
   "outputs": [
    {
     "name": "stdout",
     "output_type": "stream",
     "text": [
      "              precision    recall  f1-score   support\n",
      "\n",
      "           0       1.00      1.00      1.00      3613\n",
      "           1       0.98      0.97      0.97       522\n",
      "\n",
      "    accuracy                           0.99      4135\n",
      "   macro avg       0.99      0.98      0.98      4135\n",
      "weighted avg       0.99      0.99      0.99      4135\n",
      "\n"
     ]
    }
   ],
   "source": [
    "print(classification_report(y_train,pred))"
   ]
  },
  {
   "cell_type": "code",
   "execution_count": 223,
   "id": "young-nudist",
   "metadata": {},
   "outputs": [
    {
     "name": "stdout",
     "output_type": "stream",
     "text": [
      "Confusion Matrix: \n",
      " [[3603   10]\n",
      " [  18  504]]\n"
     ]
    }
   ],
   "source": [
    "print(\"Confusion Matrix: \\n\", confusion_matrix(y_train,pred))"
   ]
  },
  {
   "cell_type": "code",
   "execution_count": 224,
   "id": "continent-insured",
   "metadata": {},
   "outputs": [
    {
     "name": "stdout",
     "output_type": "stream",
     "text": [
      "Accuracy: \n",
      " 0.9932285368802902\n"
     ]
    }
   ],
   "source": [
    "print(\"Accuracy: \\n\", accuracy_score(y_train,pred))"
   ]
  },
  {
   "cell_type": "markdown",
   "id": "demonstrated-hormone",
   "metadata": {},
   "source": [
    "#### Test"
   ]
  },
  {
   "cell_type": "code",
   "execution_count": 225,
   "id": "connected-mystery",
   "metadata": {},
   "outputs": [
    {
     "name": "stdout",
     "output_type": "stream",
     "text": [
      "              precision    recall  f1-score   support\n",
      "\n",
      "           0       0.99      0.98      0.99       903\n",
      "           1       0.90      0.92      0.91       131\n",
      "\n",
      "    accuracy                           0.98      1034\n",
      "   macro avg       0.94      0.95      0.95      1034\n",
      "weighted avg       0.98      0.98      0.98      1034\n",
      "\n"
     ]
    }
   ],
   "source": [
    "pred_test = model.predict(X_test)\n",
    "print(classification_report(y_test,pred_test))"
   ]
  },
  {
   "cell_type": "code",
   "execution_count": 226,
   "id": "spread-feature",
   "metadata": {},
   "outputs": [
    {
     "name": "stdout",
     "output_type": "stream",
     "text": [
      "Confusion Matrix: \n",
      " [[889  14]\n",
      " [ 11 120]]\n"
     ]
    }
   ],
   "source": [
    "print(\"Confusion Matrix: \\n\", confusion_matrix(y_test,pred_test))"
   ]
  },
  {
   "cell_type": "code",
   "execution_count": 227,
   "id": "macro-mounting",
   "metadata": {},
   "outputs": [
    {
     "name": "stdout",
     "output_type": "stream",
     "text": [
      "Accuracy: \n",
      " 0.9758220502901354\n"
     ]
    }
   ],
   "source": [
    "print(\"Accuracy: \\n\", accuracy_score(y_test,pred_test))"
   ]
  },
  {
   "cell_type": "markdown",
   "id": "indie-westminster",
   "metadata": {},
   "source": [
    "## SVM"
   ]
  },
  {
   "cell_type": "code",
   "execution_count": 191,
   "id": "handed-opposition",
   "metadata": {},
   "outputs": [],
   "source": [
    "from sklearn import svm"
   ]
  },
  {
   "cell_type": "code",
   "execution_count": 192,
   "id": "racial-damage",
   "metadata": {},
   "outputs": [],
   "source": [
    "classfier = svm.SVC(kernel='linear')"
   ]
  },
  {
   "cell_type": "code",
   "execution_count": 193,
   "id": "featured-prediction",
   "metadata": {},
   "outputs": [],
   "source": [
    "model = classfier.fit(X_train,y_train)"
   ]
  },
  {
   "cell_type": "code",
   "execution_count": 194,
   "id": "nominated-craft",
   "metadata": {},
   "outputs": [],
   "source": [
    "pred = model.predict(X_train)"
   ]
  },
  {
   "cell_type": "code",
   "execution_count": 228,
   "id": "generic-space",
   "metadata": {},
   "outputs": [
    {
     "name": "stdout",
     "output_type": "stream",
     "text": [
      "              precision    recall  f1-score   support\n",
      "\n",
      "           0       1.00      1.00      1.00      3613\n",
      "           1       0.98      0.97      0.97       522\n",
      "\n",
      "    accuracy                           0.99      4135\n",
      "   macro avg       0.99      0.98      0.98      4135\n",
      "weighted avg       0.99      0.99      0.99      4135\n",
      "\n"
     ]
    }
   ],
   "source": [
    "print(classification_report(y_train,pred))"
   ]
  },
  {
   "cell_type": "code",
   "execution_count": 229,
   "id": "early-circle",
   "metadata": {},
   "outputs": [
    {
     "name": "stdout",
     "output_type": "stream",
     "text": [
      "Confusion Matrix: \n",
      " [[3603   10]\n",
      " [  18  504]]\n"
     ]
    }
   ],
   "source": [
    "print(\"Confusion Matrix: \\n\", confusion_matrix(y_train, pred))"
   ]
  },
  {
   "cell_type": "code",
   "execution_count": 230,
   "id": "executive-hardwood",
   "metadata": {},
   "outputs": [
    {
     "name": "stdout",
     "output_type": "stream",
     "text": [
      "Accuracy: \n",
      " 0.9932285368802902\n"
     ]
    }
   ],
   "source": [
    "print(\"Accuracy: \\n\", accuracy_score(y_train, pred))"
   ]
  },
  {
   "cell_type": "markdown",
   "id": "interior-pulse",
   "metadata": {},
   "source": [
    "#### Test"
   ]
  },
  {
   "cell_type": "code",
   "execution_count": 231,
   "id": "previous-slide",
   "metadata": {},
   "outputs": [
    {
     "name": "stdout",
     "output_type": "stream",
     "text": [
      "              precision    recall  f1-score   support\n",
      "\n",
      "           0       0.99      0.98      0.99       903\n",
      "           1       0.90      0.92      0.91       131\n",
      "\n",
      "    accuracy                           0.98      1034\n",
      "   macro avg       0.94      0.95      0.95      1034\n",
      "weighted avg       0.98      0.98      0.98      1034\n",
      "\n"
     ]
    }
   ],
   "source": [
    "pred_test = model.predict(X_test)\n",
    "print(classification_report(y_test,pred_test))"
   ]
  },
  {
   "cell_type": "code",
   "execution_count": 232,
   "id": "super-recommendation",
   "metadata": {},
   "outputs": [
    {
     "name": "stdout",
     "output_type": "stream",
     "text": [
      "Confusion Matrix: \n",
      " [[889  14]\n",
      " [ 11 120]]\n"
     ]
    }
   ],
   "source": [
    "print(\"Confusion Matrix: \\n\", confusion_matrix(y_test,pred_test))"
   ]
  },
  {
   "cell_type": "code",
   "execution_count": 233,
   "id": "meaningful-surgeon",
   "metadata": {},
   "outputs": [
    {
     "name": "stdout",
     "output_type": "stream",
     "text": [
      "Accuracy: \n",
      " 0.9758220502901354\n"
     ]
    }
   ],
   "source": [
    "print(\"Accuracy: \\n\", accuracy_score(y_test,pred_test))"
   ]
  },
  {
   "cell_type": "markdown",
   "id": "mental-confidentiality",
   "metadata": {},
   "source": [
    "## Logistic regression"
   ]
  },
  {
   "cell_type": "code",
   "execution_count": 234,
   "id": "shared-trust",
   "metadata": {},
   "outputs": [],
   "source": [
    "from sklearn.linear_model import LogisticRegression"
   ]
  },
  {
   "cell_type": "code",
   "execution_count": 235,
   "id": "fossil-winner",
   "metadata": {},
   "outputs": [],
   "source": [
    "logisticRegression = LogisticRegression()"
   ]
  },
  {
   "cell_type": "code",
   "execution_count": 236,
   "id": "assumed-native",
   "metadata": {},
   "outputs": [],
   "source": [
    "model = logisticRegression.fit(X_train,y_train)"
   ]
  },
  {
   "cell_type": "code",
   "execution_count": 237,
   "id": "democratic-maldives",
   "metadata": {},
   "outputs": [],
   "source": [
    "pred_val = model.predict(X_train)"
   ]
  },
  {
   "cell_type": "code",
   "execution_count": 238,
   "id": "brutal-patent",
   "metadata": {},
   "outputs": [
    {
     "name": "stdout",
     "output_type": "stream",
     "text": [
      "              precision    recall  f1-score   support\n",
      "\n",
      "           0       1.00      1.00      1.00      3613\n",
      "           1       1.00      0.97      0.99       522\n",
      "\n",
      "    accuracy                           1.00      4135\n",
      "   macro avg       1.00      0.99      0.99      4135\n",
      "weighted avg       1.00      1.00      1.00      4135\n",
      "\n"
     ]
    }
   ],
   "source": [
    "print(classification_report(y_train,pred_val))"
   ]
  },
  {
   "cell_type": "code",
   "execution_count": 239,
   "id": "dutch-pastor",
   "metadata": {},
   "outputs": [
    {
     "name": "stdout",
     "output_type": "stream",
     "text": [
      "[[3613    0]\n",
      " [  15  507]]\n"
     ]
    }
   ],
   "source": [
    "print(confusion_matrix(y_train,pred_val))"
   ]
  },
  {
   "cell_type": "code",
   "execution_count": 240,
   "id": "moved-attempt",
   "metadata": {},
   "outputs": [
    {
     "name": "stdout",
     "output_type": "stream",
     "text": [
      "0.9963724304715841\n"
     ]
    }
   ],
   "source": [
    "print(accuracy_score(y_train,pred_val))"
   ]
  },
  {
   "cell_type": "markdown",
   "id": "daily-saskatchewan",
   "metadata": {},
   "source": [
    "#### Test"
   ]
  },
  {
   "cell_type": "code",
   "execution_count": 241,
   "id": "promotional-cemetery",
   "metadata": {},
   "outputs": [],
   "source": [
    "pred_test = model.predict(X_test)"
   ]
  },
  {
   "cell_type": "code",
   "execution_count": 242,
   "id": "collect-magic",
   "metadata": {},
   "outputs": [
    {
     "name": "stdout",
     "output_type": "stream",
     "text": [
      "              precision    recall  f1-score   support\n",
      "\n",
      "           0       0.98      1.00      0.99       903\n",
      "           1       0.96      0.82      0.89       131\n",
      "\n",
      "    accuracy                           0.97      1034\n",
      "   macro avg       0.97      0.91      0.94      1034\n",
      "weighted avg       0.97      0.97      0.97      1034\n",
      "\n"
     ]
    }
   ],
   "source": [
    "print(classification_report(y_test,pred_test))"
   ]
  },
  {
   "cell_type": "code",
   "execution_count": 243,
   "id": "caroline-review",
   "metadata": {},
   "outputs": [
    {
     "name": "stdout",
     "output_type": "stream",
     "text": [
      "[[899   4]\n",
      " [ 23 108]]\n"
     ]
    }
   ],
   "source": [
    "print(confusion_matrix(y_test,pred_test))"
   ]
  },
  {
   "cell_type": "code",
   "execution_count": 244,
   "id": "planned-photographer",
   "metadata": {},
   "outputs": [
    {
     "name": "stdout",
     "output_type": "stream",
     "text": [
      "0.9738878143133463\n"
     ]
    }
   ],
   "source": [
    "print(accuracy_score(y_test,pred_test))"
   ]
  }
 ],
 "metadata": {
  "kernelspec": {
   "display_name": "Python 3",
   "language": "python",
   "name": "python3"
  },
  "language_info": {
   "codemirror_mode": {
    "name": "ipython",
    "version": 3
   },
   "file_extension": ".py",
   "mimetype": "text/x-python",
   "name": "python",
   "nbconvert_exporter": "python",
   "pygments_lexer": "ipython3",
   "version": "3.7.10"
  }
 },
 "nbformat": 4,
 "nbformat_minor": 5
}
